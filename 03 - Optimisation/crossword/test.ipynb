{
 "cells": [
  {
   "cell_type": "code",
   "execution_count": null,
   "id": "caf40802-f8ec-46e7-9ad0-feadb54cf15d",
   "metadata": {},
   "outputs": [],
   "source": [
    "class Variable():\n",
    "\n",
    "    ACROSS = \"across\"\n",
    "    DOWN = \"down\"\n",
    "\n",
    "    def __init__(self, i, j, direction, length):\n",
    "        \"\"\"Create a new variable with starting point, direction, and length.\"\"\"\n",
    "        self.i = i\n",
    "        self.j = j\n",
    "        self.direction = direction\n",
    "        self.length = length\n",
    "        self.cells = []\n",
    "        for k in range(self.length):\n",
    "            self.cells.append(\n",
    "                (self.i + (k if self.direction == Variable.DOWN else 0),\n",
    "                 self.j + (k if self.direction == Variable.ACROSS else 0))\n",
    "            )\n",
    "\n",
    "    def __hash__(self):\n",
    "        return hash((self.i, self.j, self.direction, self.length))\n",
    "\n",
    "    def __eq__(self, other):\n",
    "        return (\n",
    "            (self.i == other.i) and\n",
    "            (self.j == other.j) and\n",
    "            (self.direction == other.direction) and\n",
    "            (self.length == other.length)\n",
    "        )\n",
    "\n",
    "    def __str__(self):\n",
    "        return f\"({self.i}, {self.j}) {self.direction} : {self.length}\"\n",
    "\n",
    "    def __repr__(self):\n",
    "        direction = repr(self.direction)\n",
    "        return f\"Variable({self.i}, {self.j}, {direction}, {self.length})\"\n",
    "\n",
    "\n",
    "class Crossword():\n",
    "\n",
    "    def __init__(self, structure_file, words_file):\n",
    "\n",
    "        # Determine structure of crossword\n",
    "        with open(structure_file) as f:\n",
    "            contents = f.read().splitlines()\n",
    "            self.height = len(contents)\n",
    "            self.width = max(len(line) for line in contents)\n",
    "\n",
    "            self.structure = []\n",
    "            for i in range(self.height):\n",
    "                row = []\n",
    "                for j in range(self.width):\n",
    "                    if j >= len(contents[i]):\n",
    "                        row.append(False)\n",
    "                    elif contents[i][j] == \"_\":\n",
    "                        row.append(True)\n",
    "                    else:\n",
    "                        row.append(False)\n",
    "                self.structure.append(row)\n",
    "\n",
    "        # Save vocabulary list\n",
    "        with open(words_file) as f:\n",
    "            self.words = set(f.read().upper().splitlines())\n",
    "\n",
    "        # Determine variable set\n",
    "        self.variables = set()\n",
    "        for i in range(self.height):\n",
    "            for j in range(self.width):\n",
    "\n",
    "                # Vertical words\n",
    "                starts_word = (\n",
    "                    self.structure[i][j]\n",
    "                    and (i == 0 or not self.structure[i - 1][j])\n",
    "                )\n",
    "                if starts_word:\n",
    "                    length = 1\n",
    "                    for k in range(i + 1, self.height):\n",
    "                        if self.structure[k][j]:\n",
    "                            length += 1\n",
    "                        else:\n",
    "                            break\n",
    "                    if length > 1:\n",
    "                        self.variables.add(Variable(\n",
    "                            i=i, j=j,\n",
    "                            direction=Variable.DOWN,\n",
    "                            length=length\n",
    "                        ))\n",
    "\n",
    "                # Horizontal words\n",
    "                starts_word = (\n",
    "                    self.structure[i][j]\n",
    "                    and (j == 0 or not self.structure[i][j - 1])\n",
    "                )\n",
    "                if starts_word:\n",
    "                    length = 1\n",
    "                    for k in range(j + 1, self.width):\n",
    "                        if self.structure[i][k]:\n",
    "                            length += 1\n",
    "                        else:\n",
    "                            break\n",
    "                    if length > 1:\n",
    "                        self.variables.add(Variable(\n",
    "                            i=i, j=j,\n",
    "                            direction=Variable.ACROSS,\n",
    "                            length=length\n",
    "                        ))\n",
    "\n",
    "        # Compute overlaps for each word\n",
    "        # For any pair of variables v1, v2, their overlap is either:\n",
    "        #    None, if the two variables do not overlap; or\n",
    "        #    (i, j), where v1's ith character overlaps v2's jth character\n",
    "        self.overlaps = dict()\n",
    "        for v1 in self.variables:\n",
    "            for v2 in self.variables:\n",
    "                if v1 == v2:\n",
    "                    continue\n",
    "                cells1 = v1.cells\n",
    "                cells2 = v2.cells\n",
    "                intersection = set(cells1).intersection(cells2)\n",
    "                if not intersection:\n",
    "                    self.overlaps[v1, v2] = None\n",
    "                else:\n",
    "                    intersection = intersection.pop()\n",
    "                    self.overlaps[v1, v2] = (\n",
    "                        cells1.index(intersection),\n",
    "                        cells2.index(intersection)\n",
    "                    )\n",
    "\n",
    "    def neighbors(self, var):\n",
    "        \"\"\"Given a variable, return set of overlapping variables.\"\"\"\n",
    "        return set(\n",
    "            v for v in self.variables\n",
    "            if v != var and self.overlaps[v, var]\n",
    "        )\n"
   ]
  },
  {
   "cell_type": "code",
   "execution_count": null,
   "id": "f0a257bb-f255-49a6-b308-9fbb0c07fbcf",
   "metadata": {},
   "outputs": [],
   "source": [
    "import sys\n",
    "import queue\n",
    "\n",
    "class CrosswordCreator():\n",
    "\n",
    "    def __init__(self, crossword):\n",
    "        \"\"\"\n",
    "        Create new CSP crossword generate.\n",
    "        \"\"\"\n",
    "        self.crossword = crossword\n",
    "        self.domains = {\n",
    "            var: self.crossword.words.copy()\n",
    "            for var in self.crossword.variables\n",
    "        }\n",
    "\n",
    "    def letter_grid(self, assignment):\n",
    "        \"\"\"\n",
    "        Return 2D array representing a given assignment.\n",
    "        \"\"\"\n",
    "        letters = [\n",
    "            [None for _ in range(self.crossword.width)]\n",
    "            for _ in range(self.crossword.height)\n",
    "        ]\n",
    "        for variable, word in assignment.items():\n",
    "            direction = variable.direction\n",
    "            for k in range(len(word)):\n",
    "                i = variable.i + (k if direction == Variable.DOWN else 0)\n",
    "                j = variable.j + (k if direction == Variable.ACROSS else 0)\n",
    "                letters[i][j] = word[k]\n",
    "        return letters\n",
    "\n",
    "    def print(self, assignment):\n",
    "        \"\"\"\n",
    "        Print crossword assignment to the terminal.\n",
    "        \"\"\"\n",
    "        letters = self.letter_grid(assignment)\n",
    "        for i in range(self.crossword.height):\n",
    "            for j in range(self.crossword.width):\n",
    "                if self.crossword.structure[i][j]:\n",
    "                    print(letters[i][j] or \" \", end=\"\")\n",
    "                else:\n",
    "                    print(\"█\", end=\"\")\n",
    "            print()\n",
    "\n",
    "    def save(self, assignment, filename):\n",
    "        \"\"\"\n",
    "        Save crossword assignment to an image file.\n",
    "        \"\"\"\n",
    "        from PIL import Image, ImageDraw, ImageFont\n",
    "        cell_size = 100\n",
    "        cell_border = 2\n",
    "        interior_size = cell_size - 2 * cell_border\n",
    "        letters = self.letter_grid(assignment)\n",
    "\n",
    "        # Create a blank canvas\n",
    "        img = Image.new(\n",
    "            \"RGBA\",\n",
    "            (self.crossword.width * cell_size,\n",
    "             self.crossword.height * cell_size),\n",
    "            \"black\"\n",
    "        )\n",
    "        font = ImageFont.truetype(\"assets/fonts/OpenSans-Regular.ttf\", 80)\n",
    "        draw = ImageDraw.Draw(img)\n",
    "\n",
    "        for i in range(self.crossword.height):\n",
    "            for j in range(self.crossword.width):\n",
    "\n",
    "                rect = [\n",
    "                    (j * cell_size + cell_border,\n",
    "                     i * cell_size + cell_border),\n",
    "                    ((j + 1) * cell_size - cell_border,\n",
    "                     (i + 1) * cell_size - cell_border)\n",
    "                ]\n",
    "                if self.crossword.structure[i][j]:\n",
    "                    draw.rectangle(rect, fill=\"white\")\n",
    "                    if letters[i][j]:\n",
    "                        _, _, w, h = draw.textbbox((0, 0), letters[i][j], font=font)\n",
    "                        draw.text(\n",
    "                            (rect[0][0] + ((interior_size - w) / 2),\n",
    "                             rect[0][1] + ((interior_size - h) / 2) - 10),\n",
    "                            letters[i][j], fill=\"black\", font=font\n",
    "                        )\n",
    "\n",
    "        img.save(filename)"
   ]
  },
  {
   "cell_type": "code",
   "execution_count": null,
   "id": "98aa7208-bbe1-4a2b-a94b-41b40ca8e2db",
   "metadata": {},
   "outputs": [],
   "source": [
    "crossword = Crossword('data/structure0.txt', 'data/words0.txt')"
   ]
  },
  {
   "cell_type": "code",
   "execution_count": null,
   "id": "64db4eea-8f0b-4a66-85b0-9fb507d23912",
   "metadata": {},
   "outputs": [],
   "source": [
    "crossword.variables"
   ]
  },
  {
   "cell_type": "code",
   "execution_count": null,
   "id": "d26dd45f-181f-437b-bf8d-bdf52747ecf5",
   "metadata": {},
   "outputs": [],
   "source": [
    "crossword.overlaps"
   ]
  },
  {
   "cell_type": "code",
   "execution_count": null,
   "id": "f0b95b31-0820-495e-bb39-60b307230ff7",
   "metadata": {},
   "outputs": [],
   "source": [
    "crossword.structure"
   ]
  },
  {
   "cell_type": "code",
   "execution_count": null,
   "id": "86ce5e7c-5ddb-42f8-845d-325edad059a6",
   "metadata": {},
   "outputs": [],
   "source": [
    "crossword.height, crossword.width"
   ]
  },
  {
   "cell_type": "code",
   "execution_count": null,
   "id": "263dc870-2661-4d23-8819-58c87818a879",
   "metadata": {},
   "outputs": [],
   "source": [
    "crossword.words"
   ]
  },
  {
   "cell_type": "code",
   "execution_count": null,
   "id": "5ceed3aa-07b5-4a23-babb-60ff6ec16713",
   "metadata": {},
   "outputs": [],
   "source": [
    "result = CrosswordCreator(crossword)"
   ]
  },
  {
   "cell_type": "code",
   "execution_count": null,
   "id": "300cb56b-5ac7-4b11-829a-3d1288407833",
   "metadata": {},
   "outputs": [],
   "source": [
    "result.domains"
   ]
  },
  {
   "cell_type": "code",
   "execution_count": null,
   "id": "ce60f5ed-2031-42a7-ac26-b07c90d16996",
   "metadata": {},
   "outputs": [],
   "source": [
    "for var in result.domains:\n",
    "    viable_options = {option for option in result.domains[var] if len(option) == var.length}\n",
    "    result.domains[var] = viable_options\n",
    "    print(result.domains[var])"
   ]
  },
  {
   "cell_type": "code",
   "execution_count": null,
   "id": "32ba3a96-470b-475e-b446-e7dfaf7aa120",
   "metadata": {},
   "outputs": [],
   "source": [
    "[var for var in result.domains]"
   ]
  },
  {
   "cell_type": "code",
   "execution_count": null,
   "id": "59fc93ae-9d63-4fdc-a364-5c3ee82a3a7f",
   "metadata": {},
   "outputs": [],
   "source": [
    "result.domains[Variable(4, 1, 'across', 4)]"
   ]
  },
  {
   "cell_type": "code",
   "execution_count": null,
   "id": "59959fb3-cf71-4850-9aeb-2fd3b0c5fe7f",
   "metadata": {},
   "outputs": [],
   "source": [
    "[overlap for overlap in crossword.overlaps if (Variable(4, 1, 'across', 4)) in overlap] "
   ]
  },
  {
   "cell_type": "code",
   "execution_count": null,
   "id": "67f97888-5a31-46a7-8970-45d6047a8d32",
   "metadata": {},
   "outputs": [],
   "source": [
    "crossword.overlaps[Variable(4, 1, 'across', 4), Variable(0, 1, 'down', 5)]"
   ]
  },
  {
   "cell_type": "code",
   "execution_count": null,
   "id": "1f000d4c-7096-4746-a794-3ffab07fc969",
   "metadata": {},
   "outputs": [],
   "source": [
    "for var in result.domains[Variable(4, 1, 'across', 4)]:\n",
    "    print(var)"
   ]
  },
  {
   "cell_type": "code",
   "execution_count": null,
   "id": "31acf17a-1290-42a5-a4e3-9d667677c70f",
   "metadata": {},
   "outputs": [],
   "source": [
    "def revise(self, x, y):\n",
    "        \"\"\"\n",
    "        Make variable `x` arc consistent with variable `y`.\n",
    "        To do so, remove values from `self.domains[x]` for which there is no\n",
    "        possible corresponding value for `y` in `self.domains[y]`.\n",
    "\n",
    "        Return True if a revision was made to the domain of `x`; return\n",
    "        False if no revision was made.\n",
    "        \"\"\"\n",
    "        revised = False\n",
    "        # Identify the relevant word positions for any overlaps\n",
    "        x_pos, y_pos = self.crossword.overlaps[x, y]\n",
    "        to_remove = set()\n",
    "        for val in self.domains[x]:\n",
    "            # Iterate through the y values, if no words with correct intersect, valid = empty\n",
    "            valid = [option for option in self.domains[y] if option[y_pos] == val[x_pos]]\n",
    "            # If valid empty, no viable options for (x, y) that correctly overlap for x\n",
    "            if not valid:\n",
    "                to_remove.add(val)\n",
    "                revised = True\n",
    "\n",
    "        for val in to_remove:\n",
    "            self.domains[x].remove(val)\n",
    "            \n",
    "        return revised"
   ]
  },
  {
   "cell_type": "code",
   "execution_count": null,
   "id": "81282124-70a8-421b-8196-b99fb66ab156",
   "metadata": {},
   "outputs": [],
   "source": [
    "revise(result, Variable(4, 1, 'across', 4), Variable(0, 1, 'down', 5))"
   ]
  },
  {
   "cell_type": "code",
   "execution_count": null,
   "id": "ff87dc65-f1a6-4eb3-89e2-5613d08d0f82",
   "metadata": {},
   "outputs": [],
   "source": [
    "import queue\n",
    "\n",
    "test = queue.Queue()\n",
    "\n",
    "for val in [1, 2, 3, 4, 5]:\n",
    "    test.put(val)\n",
    "\n",
    "for i in range(5):\n",
    "    print(test.get())"
   ]
  },
  {
   "cell_type": "code",
   "execution_count": null,
   "id": "a16350e7-1f67-48b2-895c-e45bca31f711",
   "metadata": {},
   "outputs": [],
   "source": [
    "list(result.domains)"
   ]
  },
  {
   "cell_type": "code",
   "execution_count": null,
   "id": "c101e9c4-d17f-4a29-8bcf-9b5e18496d3f",
   "metadata": {},
   "outputs": [],
   "source": [
    "result.crossword.overlaps"
   ]
  },
  {
   "cell_type": "code",
   "execution_count": null,
   "id": "837c116d-48d6-4fd2-a80f-f602af0a0289",
   "metadata": {},
   "outputs": [],
   "source": [
    "{k: v for k, v in sorted(result.domains.items(), key=lambda item: len(item[1]), reverse=True)}"
   ]
  },
  {
   "cell_type": "code",
   "execution_count": null,
   "id": "ff1ca4b8-bfd7-4d20-84eb-adf9c014f44c",
   "metadata": {},
   "outputs": [],
   "source": [
    "def ac3(self, arcs=None):\n",
    "        \"\"\"\n",
    "        Update `self.domains` such that each variable is arc consistent.\n",
    "        If `arcs` is None, begin with initial list of all arcs in the problem.\n",
    "        Otherwise, use `arcs` as the initial list of arcs to make consistent.\n",
    "\n",
    "        Return True if arc consistency is enforced and no domains are empty;\n",
    "        return False if one or more domains end up empty.\n",
    "        \"\"\"\n",
    "        # Create a queue of all domains and options sorted by size, revise until domains\n",
    "        # reduced fully to one option each, or the solution fails\n",
    "        arcs = queue.Queue()\n",
    "        domains = {val: domain for val, domain in sorted(self.domains.items(), key=lambda item: len(item[1]), reverse=True)}\n",
    "        \n",
    "        for k, v in domains:\n",
    "            arcs.put((k, v))\n",
    "\n",
    "        while arcs:\n",
    "            print(arcs.get())\n",
    "\n",
    "ac3(result)"
   ]
  },
  {
   "cell_type": "code",
   "execution_count": null,
   "id": "9731ec7b-2739-459a-afa3-445aaaeace4a",
   "metadata": {},
   "outputs": [],
   "source": [
    "from collections import deque\n",
    "\n",
    "def a(self, arcs=None):\n",
    "    variables = [val for val in self.domains.keys()]\n",
    "    print((variables, variables))\n",
    "    queue = [(x, y) for x, y in (variables, variables) if x != y] if not arcs else arcs\n",
    "    return queue"
   ]
  },
  {
   "cell_type": "code",
   "execution_count": null,
   "id": "7e45d597-6898-475b-b7e5-a56d58ec9daf",
   "metadata": {},
   "outputs": [],
   "source": [
    "a(result)"
   ]
  },
  {
   "cell_type": "code",
   "execution_count": null,
   "id": "dffb6873-eeb8-4ace-95ff-11d891e53d2a",
   "metadata": {},
   "outputs": [],
   "source": [
    "[overlap for overlap in result.crossword.overlaps if overlap[0] == Variable(4, 1, 'across', 4)]"
   ]
  },
  {
   "cell_type": "code",
   "execution_count": null,
   "id": "d39dc1ff-238c-4052-9683-bf86af16fc7e",
   "metadata": {},
   "outputs": [],
   "source": [
    "result.domains.keys()"
   ]
  },
  {
   "cell_type": "code",
   "execution_count": null,
   "id": "85cfe550-f443-449c-9378-ee1463978234",
   "metadata": {},
   "outputs": [],
   "source": [
    "result.crossword.neighbors(Variable(4, 1, 'across', 4))"
   ]
  },
  {
   "cell_type": "code",
   "execution_count": null,
   "id": "4f1dcb1f-56e6-4803-be67-8d993cc3471f",
   "metadata": {},
   "outputs": [],
   "source": [
    "test = []\n",
    "bacon = [True, False]"
   ]
  },
  {
   "cell_type": "code",
   "execution_count": null,
   "id": "09a7fdd4-86a6-45b2-ac7c-cf2e0cdce243",
   "metadata": {},
   "outputs": [],
   "source": [
    "for row in bacon:\n",
    "    test.append(1 if row else 0)\n",
    "\n",
    "test"
   ]
  },
  {
   "cell_type": "code",
   "execution_count": null,
   "id": "7de9ad05-eb4f-4338-bfd3-ebd38094ddf3",
   "metadata": {},
   "outputs": [],
   "source": [
    "for i in range(2, -1, -1):\n",
    "    print(i)"
   ]
  },
  {
   "cell_type": "code",
   "execution_count": null,
   "id": "3f13a5fa-976f-462b-99d0-7ccf8f5b8a58",
   "metadata": {},
   "outputs": [],
   "source": [
    "mp = x / 2\n",
    "if mp ** 2 == x:\n",
    "    return mp\n",
    "\n",
    "elif mp ** 2 > x:\n",
    "    mp /= 2\n",
    "\n",
    "else:\n",
    "    mp = (mp + prev) / 2"
   ]
  },
  {
   "cell_type": "code",
   "execution_count": null,
   "id": "50ddd8ab-3edf-48a2-aeab-74904bb525f1",
   "metadata": {},
   "outputs": [],
   "source": [
    "def singleNumber(nums):\n",
    "        \"\"\"\n",
    "        :type nums: List[int]\n",
    "        :rtype: int\n",
    "        \"\"\"\n",
    "        seen = {}\n",
    "        \n",
    "        for i in range(len(nums)):\n",
    "            if nums[i] in seen.keys():\n",
    "                seen[nums[i]] += 1\n",
    "            else:\n",
    "                seen[nums[i]] = 1\n",
    "\n",
    "        return [k for k,v in seen.items() if v != 2][0]"
   ]
  },
  {
   "cell_type": "code",
   "execution_count": null,
   "id": "345b9319-f3eb-4032-96ef-106846181d7a",
   "metadata": {},
   "outputs": [],
   "source": [
    "singleNumber([4,1,2,1,2])"
   ]
  },
  {
   "cell_type": "code",
   "execution_count": null,
   "id": "437e505f-2a1d-44f1-9379-305cef11ca0e",
   "metadata": {},
   "outputs": [],
   "source": [
    "import nltk\n",
    "\n",
    "def preprocess(sentence):\n",
    "    \"\"\"\n",
    "    Convert `sentence` to a list of its words.\n",
    "    Pre-process sentence by converting all characters to lowercase\n",
    "    and removing any word that does not contain at least one alphabetic\n",
    "    character.\n",
    "    \"\"\"\n",
    "    words = nltk.tokenize.word_tokenize(sentence.lower())\n",
    "    return [word for word in words if word.isalpha()]"
   ]
  },
  {
   "cell_type": "code",
   "execution_count": null,
   "id": "f67c83ac-ce9c-49b0-b047-20d676ee18e1",
   "metadata": {},
   "outputs": [],
   "source": [
    "preprocess('when I went to the p4rk I was happy')"
   ]
  },
  {
   "cell_type": "code",
   "execution_count": 1,
   "id": "c69f8cec-71e9-4a81-be1b-b064cc959d6d",
   "metadata": {},
   "outputs": [
    {
     "name": "stderr",
     "output_type": "stream",
     "text": [
      "2024-10-06 15:30:14.065120: I tensorflow/core/util/port.cc:153] oneDNN custom operations are on. You may see slightly different numerical results due to floating-point round-off errors from different computation orders. To turn them off, set the environment variable `TF_ENABLE_ONEDNN_OPTS=0`.\n",
      "2024-10-06 15:30:14.239759: E external/local_xla/xla/stream_executor/cuda/cuda_fft.cc:485] Unable to register cuFFT factory: Attempting to register factory for plugin cuFFT when one has already been registered\n",
      "2024-10-06 15:30:14.284596: E external/local_xla/xla/stream_executor/cuda/cuda_dnn.cc:8454] Unable to register cuDNN factory: Attempting to register factory for plugin cuDNN when one has already been registered\n",
      "2024-10-06 15:30:14.293858: E external/local_xla/xla/stream_executor/cuda/cuda_blas.cc:1452] Unable to register cuBLAS factory: Attempting to register factory for plugin cuBLAS when one has already been registered\n",
      "2024-10-06 15:30:14.336102: I tensorflow/core/platform/cpu_feature_guard.cc:210] This TensorFlow binary is optimized to use available CPU instructions in performance-critical operations.\n",
      "To enable the following instructions: AVX2 AVX_VNNI FMA, in other operations, rebuild TensorFlow with the appropriate compiler flags.\n",
      "2024-10-06 15:30:15.657426: W tensorflow/compiler/tf2tensorrt/utils/py_utils.cc:38] TF-TRT Warning: Could not find TensorRT\n"
     ]
    },
    {
     "name": "stdin",
     "output_type": "stream",
     "text": [
      "Text:  hello\n"
     ]
    },
    {
     "data": {
      "application/vnd.jupyter.widget-view+json": {
       "model_id": "9a885caa4f2e4fea8b0b1827b432f430",
       "version_major": 2,
       "version_minor": 0
      },
      "text/plain": [
       "tokenizer_config.json:   0%|          | 0.00/48.0 [00:00<?, ?B/s]"
      ]
     },
     "metadata": {},
     "output_type": "display_data"
    },
    {
     "name": "stderr",
     "output_type": "stream",
     "text": [
      "/home/christian/.pyenv/versions/3.10.6/envs/base_env/lib/python3.10/site-packages/huggingface_hub/file_download.py:1132: FutureWarning: `resume_download` is deprecated and will be removed in version 1.0.0. Downloads always resume when possible. If you want to force a new download, use `force_download=True`.\n",
      "  warnings.warn(\n"
     ]
    },
    {
     "data": {
      "application/vnd.jupyter.widget-view+json": {
       "model_id": "5d3944fb2a634aa09990dc8a16f07953",
       "version_major": 2,
       "version_minor": 0
      },
      "text/plain": [
       "config.json:   0%|          | 0.00/570 [00:00<?, ?B/s]"
      ]
     },
     "metadata": {},
     "output_type": "display_data"
    },
    {
     "data": {
      "application/vnd.jupyter.widget-view+json": {
       "model_id": "184edfe4cbc84f30b7d4c2c87b0b47e2",
       "version_major": 2,
       "version_minor": 0
      },
      "text/plain": [
       "vocab.txt:   0%|          | 0.00/232k [00:00<?, ?B/s]"
      ]
     },
     "metadata": {},
     "output_type": "display_data"
    },
    {
     "data": {
      "application/vnd.jupyter.widget-view+json": {
       "model_id": "f5c484d7b63e4983a0510844745b9187",
       "version_major": 2,
       "version_minor": 0
      },
      "text/plain": [
       "tokenizer.json:   0%|          | 0.00/466k [00:00<?, ?B/s]"
      ]
     },
     "metadata": {},
     "output_type": "display_data"
    },
    {
     "name": "stderr",
     "output_type": "stream",
     "text": [
      "WARNING: All log messages before absl::InitializeLog() is called are written to STDERR\n",
      "I0000 00:00:1728199835.291499   73661 cuda_executor.cc:1001] could not open file to read NUMA node: /sys/bus/pci/devices/0000:01:00.0/numa_node\n",
      "Your kernel may have been built without NUMA support.\n",
      "2024-10-06 15:30:35.298682: W tensorflow/core/common_runtime/gpu/gpu_device.cc:2343] Cannot dlopen some GPU libraries. Please make sure the missing libraries mentioned above are installed properly if you would like to use GPU. Follow the guide at https://www.tensorflow.org/install/gpu for how to download and setup the required libraries for your platform.\n",
      "Skipping registering GPU devices...\n"
     ]
    }
   ],
   "source": [
    "import sys\n",
    "import tensorflow as tf\n",
    "\n",
    "from PIL import Image, ImageDraw, ImageFont\n",
    "from transformers import AutoTokenizer, TFBertForMaskedLM\n",
    "\n",
    "# Pre-trained masked language model\n",
    "MODEL = \"bert-base-uncased\"\n",
    "\n",
    "# Number of predictions to generate\n",
    "K = 3\n",
    "\n",
    "# Constants for generating attention diagrams\n",
    "# FONT = ImageFont.truetype(\"assets/fonts/OpenSans-Regular.ttf\", 28)\n",
    "GRID_SIZE = 40\n",
    "PIXELS_PER_WORD = 200\n",
    "\n",
    "text = input(\"Text: \")\n",
    "\n",
    "    # Tokenize input\n",
    "tokenizer = AutoTokenizer.from_pretrained(MODEL)\n",
    "inputs = tokenizer(text, return_tensors=\"tf\")"
   ]
  },
  {
   "cell_type": "code",
   "execution_count": null,
   "id": "b6d33093-e4db-4572-beba-4b53838af9bf",
   "metadata": {},
   "outputs": [],
   "source": [
    "# pip install tf-keras"
   ]
  },
  {
   "cell_type": "code",
   "execution_count": 14,
   "id": "6ee6c816-fc5d-4e1a-9525-ef248a8ebf00",
   "metadata": {},
   "outputs": [
    {
     "name": "stdout",
     "output_type": "stream",
     "text": [
      "tf.Tensor(101, shape=(), dtype=int32)\n",
      "tf.Tensor(7592, shape=(), dtype=int32)\n",
      "tf.Tensor(102, shape=(), dtype=int32)\n"
     ]
    }
   ],
   "source": [
    "for val in inputs['input_ids'][0]:\n",
    "    print(val)"
   ]
  },
  {
   "cell_type": "code",
   "execution_count": 16,
   "id": "514e0a3c-4683-42ae-9714-49595c000e6c",
   "metadata": {},
   "outputs": [
    {
     "name": "stdout",
     "output_type": "stream",
     "text": [
      "2\n",
      "4\n"
     ]
    }
   ],
   "source": [
    "for i in str(24):\n",
    "    print(i)"
   ]
  },
  {
   "cell_type": "code",
   "execution_count": 17,
   "id": "90f230ee-b479-4919-b746-073d8e2ff0a6",
   "metadata": {},
   "outputs": [
    {
     "name": "stdout",
     "output_type": "stream",
     "text": [
      "True\n"
     ]
    }
   ],
   "source": [
    "nums = [2,2]\n",
    "\n",
    "if nums[0] in nums[1:4]:\n",
    "    print(True)"
   ]
  },
  {
   "cell_type": "code",
   "execution_count": null,
   "id": "aa2356d3-a447-4ef2-af61-e45bdd0a025d",
   "metadata": {},
   "outputs": [],
   "source": []
  }
 ],
 "metadata": {
  "kernelspec": {
   "display_name": "Python 3 (ipykernel)",
   "language": "python",
   "name": "python3"
  },
  "language_info": {
   "codemirror_mode": {
    "name": "ipython",
    "version": 3
   },
   "file_extension": ".py",
   "mimetype": "text/x-python",
   "name": "python",
   "nbconvert_exporter": "python",
   "pygments_lexer": "ipython3",
   "version": "3.10.6"
  }
 },
 "nbformat": 4,
 "nbformat_minor": 5
}
