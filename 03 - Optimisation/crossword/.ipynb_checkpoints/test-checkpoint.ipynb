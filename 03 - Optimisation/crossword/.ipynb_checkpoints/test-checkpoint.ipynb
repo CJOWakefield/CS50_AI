{
 "cells": [
  {
   "cell_type": "code",
   "execution_count": 1,
   "id": "caf40802-f8ec-46e7-9ad0-feadb54cf15d",
   "metadata": {},
   "outputs": [],
   "source": [
    "class Variable():\n",
    "\n",
    "    ACROSS = \"across\"\n",
    "    DOWN = \"down\"\n",
    "\n",
    "    def __init__(self, i, j, direction, length):\n",
    "        \"\"\"Create a new variable with starting point, direction, and length.\"\"\"\n",
    "        self.i = i\n",
    "        self.j = j\n",
    "        self.direction = direction\n",
    "        self.length = length\n",
    "        self.cells = []\n",
    "        for k in range(self.length):\n",
    "            self.cells.append(\n",
    "                (self.i + (k if self.direction == Variable.DOWN else 0),\n",
    "                 self.j + (k if self.direction == Variable.ACROSS else 0))\n",
    "            )\n",
    "\n",
    "    def __hash__(self):\n",
    "        return hash((self.i, self.j, self.direction, self.length))\n",
    "\n",
    "    def __eq__(self, other):\n",
    "        return (\n",
    "            (self.i == other.i) and\n",
    "            (self.j == other.j) and\n",
    "            (self.direction == other.direction) and\n",
    "            (self.length == other.length)\n",
    "        )\n",
    "\n",
    "    def __str__(self):\n",
    "        return f\"({self.i}, {self.j}) {self.direction} : {self.length}\"\n",
    "\n",
    "    def __repr__(self):\n",
    "        direction = repr(self.direction)\n",
    "        return f\"Variable({self.i}, {self.j}, {direction}, {self.length})\"\n",
    "\n",
    "\n",
    "class Crossword():\n",
    "\n",
    "    def __init__(self, structure_file, words_file):\n",
    "\n",
    "        # Determine structure of crossword\n",
    "        with open(structure_file) as f:\n",
    "            contents = f.read().splitlines()\n",
    "            self.height = len(contents)\n",
    "            self.width = max(len(line) for line in contents)\n",
    "\n",
    "            self.structure = []\n",
    "            for i in range(self.height):\n",
    "                row = []\n",
    "                for j in range(self.width):\n",
    "                    if j >= len(contents[i]):\n",
    "                        row.append(False)\n",
    "                    elif contents[i][j] == \"_\":\n",
    "                        row.append(True)\n",
    "                    else:\n",
    "                        row.append(False)\n",
    "                self.structure.append(row)\n",
    "\n",
    "        # Save vocabulary list\n",
    "        with open(words_file) as f:\n",
    "            self.words = set(f.read().upper().splitlines())\n",
    "\n",
    "        # Determine variable set\n",
    "        self.variables = set()\n",
    "        for i in range(self.height):\n",
    "            for j in range(self.width):\n",
    "\n",
    "                # Vertical words\n",
    "                starts_word = (\n",
    "                    self.structure[i][j]\n",
    "                    and (i == 0 or not self.structure[i - 1][j])\n",
    "                )\n",
    "                if starts_word:\n",
    "                    length = 1\n",
    "                    for k in range(i + 1, self.height):\n",
    "                        if self.structure[k][j]:\n",
    "                            length += 1\n",
    "                        else:\n",
    "                            break\n",
    "                    if length > 1:\n",
    "                        self.variables.add(Variable(\n",
    "                            i=i, j=j,\n",
    "                            direction=Variable.DOWN,\n",
    "                            length=length\n",
    "                        ))\n",
    "\n",
    "                # Horizontal words\n",
    "                starts_word = (\n",
    "                    self.structure[i][j]\n",
    "                    and (j == 0 or not self.structure[i][j - 1])\n",
    "                )\n",
    "                if starts_word:\n",
    "                    length = 1\n",
    "                    for k in range(j + 1, self.width):\n",
    "                        if self.structure[i][k]:\n",
    "                            length += 1\n",
    "                        else:\n",
    "                            break\n",
    "                    if length > 1:\n",
    "                        self.variables.add(Variable(\n",
    "                            i=i, j=j,\n",
    "                            direction=Variable.ACROSS,\n",
    "                            length=length\n",
    "                        ))\n",
    "\n",
    "        # Compute overlaps for each word\n",
    "        # For any pair of variables v1, v2, their overlap is either:\n",
    "        #    None, if the two variables do not overlap; or\n",
    "        #    (i, j), where v1's ith character overlaps v2's jth character\n",
    "        self.overlaps = dict()\n",
    "        for v1 in self.variables:\n",
    "            for v2 in self.variables:\n",
    "                if v1 == v2:\n",
    "                    continue\n",
    "                cells1 = v1.cells\n",
    "                cells2 = v2.cells\n",
    "                intersection = set(cells1).intersection(cells2)\n",
    "                if not intersection:\n",
    "                    self.overlaps[v1, v2] = None\n",
    "                else:\n",
    "                    intersection = intersection.pop()\n",
    "                    self.overlaps[v1, v2] = (\n",
    "                        cells1.index(intersection),\n",
    "                        cells2.index(intersection)\n",
    "                    )\n",
    "\n",
    "    def neighbors(self, var):\n",
    "        \"\"\"Given a variable, return set of overlapping variables.\"\"\"\n",
    "        return set(\n",
    "            v for v in self.variables\n",
    "            if v != var and self.overlaps[v, var]\n",
    "        )\n"
   ]
  },
  {
   "cell_type": "code",
   "execution_count": 2,
   "id": "f0a257bb-f255-49a6-b308-9fbb0c07fbcf",
   "metadata": {},
   "outputs": [],
   "source": [
    "import sys\n",
    "import queue\n",
    "\n",
    "class CrosswordCreator():\n",
    "\n",
    "    def __init__(self, crossword):\n",
    "        \"\"\"\n",
    "        Create new CSP crossword generate.\n",
    "        \"\"\"\n",
    "        self.crossword = crossword\n",
    "        self.domains = {\n",
    "            var: self.crossword.words.copy()\n",
    "            for var in self.crossword.variables\n",
    "        }\n",
    "\n",
    "    def letter_grid(self, assignment):\n",
    "        \"\"\"\n",
    "        Return 2D array representing a given assignment.\n",
    "        \"\"\"\n",
    "        letters = [\n",
    "            [None for _ in range(self.crossword.width)]\n",
    "            for _ in range(self.crossword.height)\n",
    "        ]\n",
    "        for variable, word in assignment.items():\n",
    "            direction = variable.direction\n",
    "            for k in range(len(word)):\n",
    "                i = variable.i + (k if direction == Variable.DOWN else 0)\n",
    "                j = variable.j + (k if direction == Variable.ACROSS else 0)\n",
    "                letters[i][j] = word[k]\n",
    "        return letters\n",
    "\n",
    "    def print(self, assignment):\n",
    "        \"\"\"\n",
    "        Print crossword assignment to the terminal.\n",
    "        \"\"\"\n",
    "        letters = self.letter_grid(assignment)\n",
    "        for i in range(self.crossword.height):\n",
    "            for j in range(self.crossword.width):\n",
    "                if self.crossword.structure[i][j]:\n",
    "                    print(letters[i][j] or \" \", end=\"\")\n",
    "                else:\n",
    "                    print(\"█\", end=\"\")\n",
    "            print()\n",
    "\n",
    "    def save(self, assignment, filename):\n",
    "        \"\"\"\n",
    "        Save crossword assignment to an image file.\n",
    "        \"\"\"\n",
    "        from PIL import Image, ImageDraw, ImageFont\n",
    "        cell_size = 100\n",
    "        cell_border = 2\n",
    "        interior_size = cell_size - 2 * cell_border\n",
    "        letters = self.letter_grid(assignment)\n",
    "\n",
    "        # Create a blank canvas\n",
    "        img = Image.new(\n",
    "            \"RGBA\",\n",
    "            (self.crossword.width * cell_size,\n",
    "             self.crossword.height * cell_size),\n",
    "            \"black\"\n",
    "        )\n",
    "        font = ImageFont.truetype(\"assets/fonts/OpenSans-Regular.ttf\", 80)\n",
    "        draw = ImageDraw.Draw(img)\n",
    "\n",
    "        for i in range(self.crossword.height):\n",
    "            for j in range(self.crossword.width):\n",
    "\n",
    "                rect = [\n",
    "                    (j * cell_size + cell_border,\n",
    "                     i * cell_size + cell_border),\n",
    "                    ((j + 1) * cell_size - cell_border,\n",
    "                     (i + 1) * cell_size - cell_border)\n",
    "                ]\n",
    "                if self.crossword.structure[i][j]:\n",
    "                    draw.rectangle(rect, fill=\"white\")\n",
    "                    if letters[i][j]:\n",
    "                        _, _, w, h = draw.textbbox((0, 0), letters[i][j], font=font)\n",
    "                        draw.text(\n",
    "                            (rect[0][0] + ((interior_size - w) / 2),\n",
    "                             rect[0][1] + ((interior_size - h) / 2) - 10),\n",
    "                            letters[i][j], fill=\"black\", font=font\n",
    "                        )\n",
    "\n",
    "        img.save(filename)"
   ]
  },
  {
   "cell_type": "code",
   "execution_count": 3,
   "id": "98aa7208-bbe1-4a2b-a94b-41b40ca8e2db",
   "metadata": {},
   "outputs": [],
   "source": [
    "crossword = Crossword('data/structure0.txt', 'data/words0.txt')"
   ]
  },
  {
   "cell_type": "code",
   "execution_count": 5,
   "id": "64db4eea-8f0b-4a66-85b0-9fb507d23912",
   "metadata": {},
   "outputs": [
    {
     "data": {
      "text/plain": [
       "{Variable(0, 1, 'across', 3),\n",
       " Variable(0, 1, 'down', 5),\n",
       " Variable(1, 4, 'down', 4),\n",
       " Variable(4, 1, 'across', 4)}"
      ]
     },
     "execution_count": 5,
     "metadata": {},
     "output_type": "execute_result"
    }
   ],
   "source": [
    "crossword.variables"
   ]
  },
  {
   "cell_type": "code",
   "execution_count": 8,
   "id": "d26dd45f-181f-437b-bf8d-bdf52747ecf5",
   "metadata": {},
   "outputs": [
    {
     "data": {
      "text/plain": [
       "{(Variable(4, 1, 'across', 4), Variable(0, 1, 'down', 5)): (0, 4),\n",
       " (Variable(4, 1, 'across', 4), Variable(0, 1, 'across', 3)): None,\n",
       " (Variable(4, 1, 'across', 4), Variable(1, 4, 'down', 4)): (3, 3),\n",
       " (Variable(0, 1, 'down', 5), Variable(4, 1, 'across', 4)): (4, 0),\n",
       " (Variable(0, 1, 'down', 5), Variable(0, 1, 'across', 3)): (0, 0),\n",
       " (Variable(0, 1, 'down', 5), Variable(1, 4, 'down', 4)): None,\n",
       " (Variable(0, 1, 'across', 3), Variable(4, 1, 'across', 4)): None,\n",
       " (Variable(0, 1, 'across', 3), Variable(0, 1, 'down', 5)): (0, 0),\n",
       " (Variable(0, 1, 'across', 3), Variable(1, 4, 'down', 4)): None,\n",
       " (Variable(1, 4, 'down', 4), Variable(4, 1, 'across', 4)): (3, 3),\n",
       " (Variable(1, 4, 'down', 4), Variable(0, 1, 'down', 5)): None,\n",
       " (Variable(1, 4, 'down', 4), Variable(0, 1, 'across', 3)): None}"
      ]
     },
     "execution_count": 8,
     "metadata": {},
     "output_type": "execute_result"
    }
   ],
   "source": [
    "crossword.overlaps"
   ]
  },
  {
   "cell_type": "code",
   "execution_count": 9,
   "id": "f0b95b31-0820-495e-bb39-60b307230ff7",
   "metadata": {},
   "outputs": [
    {
     "data": {
      "text/plain": [
       "[[False, True, True, True, False],\n",
       " [False, True, False, False, True],\n",
       " [False, True, False, False, True],\n",
       " [False, True, False, False, True],\n",
       " [False, True, True, True, True]]"
      ]
     },
     "execution_count": 9,
     "metadata": {},
     "output_type": "execute_result"
    }
   ],
   "source": [
    "crossword.structure"
   ]
  },
  {
   "cell_type": "code",
   "execution_count": 10,
   "id": "86ce5e7c-5ddb-42f8-845d-325edad059a6",
   "metadata": {},
   "outputs": [
    {
     "data": {
      "text/plain": [
       "(5, 5)"
      ]
     },
     "execution_count": 10,
     "metadata": {},
     "output_type": "execute_result"
    }
   ],
   "source": [
    "crossword.height, crossword.width"
   ]
  },
  {
   "cell_type": "code",
   "execution_count": 11,
   "id": "263dc870-2661-4d23-8819-58c87818a879",
   "metadata": {},
   "outputs": [
    {
     "data": {
      "text/plain": [
       "{'EIGHT', 'FIVE', 'FOUR', 'NINE', 'ONE', 'SEVEN', 'SIX', 'TEN', 'THREE', 'TWO'}"
      ]
     },
     "execution_count": 11,
     "metadata": {},
     "output_type": "execute_result"
    }
   ],
   "source": [
    "crossword.words"
   ]
  },
  {
   "cell_type": "code",
   "execution_count": 31,
   "id": "5ceed3aa-07b5-4a23-babb-60ff6ec16713",
   "metadata": {},
   "outputs": [],
   "source": [
    "result = CrosswordCreator(crossword)"
   ]
  },
  {
   "cell_type": "code",
   "execution_count": 32,
   "id": "300cb56b-5ac7-4b11-829a-3d1288407833",
   "metadata": {},
   "outputs": [
    {
     "data": {
      "text/plain": [
       "{Variable(4, 1, 'across', 4): {'EIGHT',\n",
       "  'FIVE',\n",
       "  'FOUR',\n",
       "  'NINE',\n",
       "  'ONE',\n",
       "  'SEVEN',\n",
       "  'SIX',\n",
       "  'TEN',\n",
       "  'THREE',\n",
       "  'TWO'},\n",
       " Variable(0, 1, 'down', 5): {'EIGHT',\n",
       "  'FIVE',\n",
       "  'FOUR',\n",
       "  'NINE',\n",
       "  'ONE',\n",
       "  'SEVEN',\n",
       "  'SIX',\n",
       "  'TEN',\n",
       "  'THREE',\n",
       "  'TWO'},\n",
       " Variable(0, 1, 'across', 3): {'EIGHT',\n",
       "  'FIVE',\n",
       "  'FOUR',\n",
       "  'NINE',\n",
       "  'ONE',\n",
       "  'SEVEN',\n",
       "  'SIX',\n",
       "  'TEN',\n",
       "  'THREE',\n",
       "  'TWO'},\n",
       " Variable(1, 4, 'down', 4): {'EIGHT',\n",
       "  'FIVE',\n",
       "  'FOUR',\n",
       "  'NINE',\n",
       "  'ONE',\n",
       "  'SEVEN',\n",
       "  'SIX',\n",
       "  'TEN',\n",
       "  'THREE',\n",
       "  'TWO'}}"
      ]
     },
     "execution_count": 32,
     "metadata": {},
     "output_type": "execute_result"
    }
   ],
   "source": [
    "result.domains"
   ]
  },
  {
   "cell_type": "code",
   "execution_count": 34,
   "id": "ce60f5ed-2031-42a7-ac26-b07c90d16996",
   "metadata": {},
   "outputs": [
    {
     "name": "stdout",
     "output_type": "stream",
     "text": [
      "{'FOUR', 'FIVE', 'NINE'}\n",
      "{'EIGHT', 'THREE', 'SEVEN'}\n",
      "{'SIX', 'TWO', 'TEN', 'ONE'}\n",
      "{'FOUR', 'FIVE', 'NINE'}\n"
     ]
    }
   ],
   "source": [
    "for var in result.domains:\n",
    "    viable_options = {option for option in result.domains[var] if len(option) == var.length}\n",
    "    result.domains[var] = viable_options\n",
    "    print(result.domains[var])"
   ]
  },
  {
   "cell_type": "code",
   "execution_count": 26,
   "id": "32ba3a96-470b-475e-b446-e7dfaf7aa120",
   "metadata": {},
   "outputs": [
    {
     "data": {
      "text/plain": [
       "[Variable(4, 1, 'across', 4),\n",
       " Variable(0, 1, 'down', 5),\n",
       " Variable(0, 1, 'across', 3),\n",
       " Variable(1, 4, 'down', 4)]"
      ]
     },
     "execution_count": 26,
     "metadata": {},
     "output_type": "execute_result"
    }
   ],
   "source": [
    "[var for var in result.domains]"
   ]
  },
  {
   "cell_type": "code",
   "execution_count": 27,
   "id": "59fc93ae-9d63-4fdc-a364-5c3ee82a3a7f",
   "metadata": {},
   "outputs": [
    {
     "data": {
      "text/plain": [
       "{'EIGHT', 'FIVE', 'FOUR', 'NINE', 'ONE', 'SEVEN', 'SIX', 'TEN', 'THREE', 'TWO'}"
      ]
     },
     "execution_count": 27,
     "metadata": {},
     "output_type": "execute_result"
    }
   ],
   "source": [
    "result.domains[Variable(4, 1, 'across', 4)]"
   ]
  },
  {
   "cell_type": "code",
   "execution_count": 38,
   "id": "59959fb3-cf71-4850-9aeb-2fd3b0c5fe7f",
   "metadata": {},
   "outputs": [
    {
     "data": {
      "text/plain": [
       "[(Variable(4, 1, 'across', 4), Variable(0, 1, 'down', 5)),\n",
       " (Variable(4, 1, 'across', 4), Variable(0, 1, 'across', 3)),\n",
       " (Variable(4, 1, 'across', 4), Variable(1, 4, 'down', 4)),\n",
       " (Variable(0, 1, 'down', 5), Variable(4, 1, 'across', 4)),\n",
       " (Variable(0, 1, 'across', 3), Variable(4, 1, 'across', 4)),\n",
       " (Variable(1, 4, 'down', 4), Variable(4, 1, 'across', 4))]"
      ]
     },
     "execution_count": 38,
     "metadata": {},
     "output_type": "execute_result"
    }
   ],
   "source": [
    "[overlap for overlap in crossword.overlaps if (Variable(4, 1, 'across', 4)) in overlap] "
   ]
  },
  {
   "cell_type": "code",
   "execution_count": 40,
   "id": "67f97888-5a31-46a7-8970-45d6047a8d32",
   "metadata": {},
   "outputs": [
    {
     "data": {
      "text/plain": [
       "(0, 4)"
      ]
     },
     "execution_count": 40,
     "metadata": {},
     "output_type": "execute_result"
    }
   ],
   "source": [
    "crossword.overlaps[Variable(4, 1, 'across', 4), Variable(0, 1, 'down', 5)]"
   ]
  },
  {
   "cell_type": "code",
   "execution_count": 41,
   "id": "1f000d4c-7096-4746-a794-3ffab07fc969",
   "metadata": {},
   "outputs": [
    {
     "name": "stdout",
     "output_type": "stream",
     "text": [
      "FOUR\n",
      "FIVE\n",
      "NINE\n"
     ]
    }
   ],
   "source": [
    "for var in result.domains[Variable(4, 1, 'across', 4)]:\n",
    "    print(var)"
   ]
  },
  {
   "cell_type": "code",
   "execution_count": 44,
   "id": "31acf17a-1290-42a5-a4e3-9d667677c70f",
   "metadata": {},
   "outputs": [],
   "source": [
    "def revise(self, x, y):\n",
    "        \"\"\"\n",
    "        Make variable `x` arc consistent with variable `y`.\n",
    "        To do so, remove values from `self.domains[x]` for which there is no\n",
    "        possible corresponding value for `y` in `self.domains[y]`.\n",
    "\n",
    "        Return True if a revision was made to the domain of `x`; return\n",
    "        False if no revision was made.\n",
    "        \"\"\"\n",
    "        revised = False\n",
    "        # Identify the relevant word positions for any overlaps\n",
    "        x_pos, y_pos = self.crossword.overlaps[x, y]\n",
    "        to_remove = set()\n",
    "        for val in self.domains[x]:\n",
    "            # Iterate through the y values, if no words with correct intersect, valid = empty\n",
    "            valid = [option for option in self.domains[y] if option[y_pos] == val[x_pos]]\n",
    "            # If valid empty, no viable options for (x, y) that correctly overlap for x\n",
    "            if not valid:\n",
    "                to_remove.add(val)\n",
    "                revised = True\n",
    "\n",
    "        for val in to_remove:\n",
    "            self.domains[x].remove(val)\n",
    "            \n",
    "        return revised"
   ]
  },
  {
   "cell_type": "code",
   "execution_count": 45,
   "id": "81282124-70a8-421b-8196-b99fb66ab156",
   "metadata": {},
   "outputs": [
    {
     "data": {
      "text/plain": [
       "True"
      ]
     },
     "execution_count": 45,
     "metadata": {},
     "output_type": "execute_result"
    }
   ],
   "source": [
    "revise(result, Variable(4, 1, 'across', 4), Variable(0, 1, 'down', 5))"
   ]
  },
  {
   "cell_type": "code",
   "execution_count": 58,
   "id": "ff87dc65-f1a6-4eb3-89e2-5613d08d0f82",
   "metadata": {},
   "outputs": [
    {
     "name": "stdout",
     "output_type": "stream",
     "text": [
      "1\n",
      "2\n",
      "3\n",
      "4\n",
      "5\n"
     ]
    }
   ],
   "source": [
    "import queue\n",
    "\n",
    "test = queue.Queue()\n",
    "\n",
    "for val in [1, 2, 3, 4, 5]:\n",
    "    test.put(val)\n",
    "\n",
    "for i in range(5):\n",
    "    print(test.get())"
   ]
  },
  {
   "cell_type": "code",
   "execution_count": 59,
   "id": "a16350e7-1f67-48b2-895c-e45bca31f711",
   "metadata": {},
   "outputs": [
    {
     "data": {
      "text/plain": [
       "{Variable(4, 1, 'across', 4): {'NINE'},\n",
       " Variable(0, 1, 'down', 5): {'EIGHT', 'SEVEN', 'THREE'},\n",
       " Variable(0, 1, 'across', 3): {'ONE', 'SIX', 'TEN', 'TWO'},\n",
       " Variable(1, 4, 'down', 4): {'FIVE', 'FOUR', 'NINE'}}"
      ]
     },
     "execution_count": 59,
     "metadata": {},
     "output_type": "execute_result"
    }
   ],
   "source": [
    "list(result.domains)"
   ]
  },
  {
   "cell_type": "code",
   "execution_count": 60,
   "id": "c101e9c4-d17f-4a29-8bcf-9b5e18496d3f",
   "metadata": {},
   "outputs": [
    {
     "data": {
      "text/plain": [
       "{(Variable(4, 1, 'across', 4), Variable(0, 1, 'down', 5)): (0, 4),\n",
       " (Variable(4, 1, 'across', 4), Variable(0, 1, 'across', 3)): None,\n",
       " (Variable(4, 1, 'across', 4), Variable(1, 4, 'down', 4)): (3, 3),\n",
       " (Variable(0, 1, 'down', 5), Variable(4, 1, 'across', 4)): (4, 0),\n",
       " (Variable(0, 1, 'down', 5), Variable(0, 1, 'across', 3)): (0, 0),\n",
       " (Variable(0, 1, 'down', 5), Variable(1, 4, 'down', 4)): None,\n",
       " (Variable(0, 1, 'across', 3), Variable(4, 1, 'across', 4)): None,\n",
       " (Variable(0, 1, 'across', 3), Variable(0, 1, 'down', 5)): (0, 0),\n",
       " (Variable(0, 1, 'across', 3), Variable(1, 4, 'down', 4)): None,\n",
       " (Variable(1, 4, 'down', 4), Variable(4, 1, 'across', 4)): (3, 3),\n",
       " (Variable(1, 4, 'down', 4), Variable(0, 1, 'down', 5)): None,\n",
       " (Variable(1, 4, 'down', 4), Variable(0, 1, 'across', 3)): None}"
      ]
     },
     "execution_count": 60,
     "metadata": {},
     "output_type": "execute_result"
    }
   ],
   "source": [
    "result.crossword.overlaps"
   ]
  },
  {
   "cell_type": "code",
   "execution_count": 68,
   "id": "837c116d-48d6-4fd2-a80f-f602af0a0289",
   "metadata": {},
   "outputs": [
    {
     "data": {
      "text/plain": [
       "{Variable(0, 1, 'across', 3): {'ONE', 'SIX', 'TEN', 'TWO'},\n",
       " Variable(0, 1, 'down', 5): {'EIGHT', 'SEVEN', 'THREE'},\n",
       " Variable(1, 4, 'down', 4): {'FIVE', 'FOUR', 'NINE'},\n",
       " Variable(4, 1, 'across', 4): {'NINE'}}"
      ]
     },
     "execution_count": 68,
     "metadata": {},
     "output_type": "execute_result"
    }
   ],
   "source": [
    "{k: v for k, v in sorted(result.domains.items(), key=lambda item: len(item[1]), reverse=True)}"
   ]
  },
  {
   "cell_type": "code",
   "execution_count": null,
   "id": "ff1ca4b8-bfd7-4d20-84eb-adf9c014f44c",
   "metadata": {},
   "outputs": [],
   "source": [
    "def ac3(self, arcs=None):\n",
    "        \"\"\"\n",
    "        Update `self.domains` such that each variable is arc consistent.\n",
    "        If `arcs` is None, begin with initial list of all arcs in the problem.\n",
    "        Otherwise, use `arcs` as the initial list of arcs to make consistent.\n",
    "\n",
    "        Return True if arc consistency is enforced and no domains are empty;\n",
    "        return False if one or more domains end up empty.\n",
    "        \"\"\"\n",
    "        # Create a queue of all domains and options sorted by size, revise until domains\n",
    "        # reduced fully to one option each, or the solution fails\n",
    "        arcs = queue.Queue()\n",
    "        domains = {val: domain for val, domain in sorted(self.domains.items(), key=lambda item: len(item[1]), reverse=True)}\n",
    "        \n",
    "        for k, v in domains:\n",
    "            arcs.put((k, v))\n",
    "\n",
    "        while arcs:\n",
    "            print(arcs.get())\n",
    "\n",
    "ac3(result)"
   ]
  },
  {
   "cell_type": "code",
   "execution_count": 94,
   "id": "9731ec7b-2739-459a-afa3-445aaaeace4a",
   "metadata": {},
   "outputs": [],
   "source": [
    "from collections import deque\n",
    "\n",
    "def a(self, arcs=None):\n",
    "    variables = [val for val in self.domains.keys()]\n",
    "    print((variables, variables))\n",
    "    queue = [(x, y) for x, y in (variables, variables) if x != y] if not arcs else arcs\n",
    "    return queue"
   ]
  },
  {
   "cell_type": "code",
   "execution_count": 95,
   "id": "7e45d597-6898-475b-b7e5-a56d58ec9daf",
   "metadata": {},
   "outputs": [
    {
     "name": "stdout",
     "output_type": "stream",
     "text": [
      "([Variable(4, 1, 'across', 4), Variable(0, 1, 'down', 5), Variable(0, 1, 'across', 3), Variable(1, 4, 'down', 4)], [Variable(4, 1, 'across', 4), Variable(0, 1, 'down', 5), Variable(0, 1, 'across', 3), Variable(1, 4, 'down', 4)])\n"
     ]
    },
    {
     "ename": "ValueError",
     "evalue": "too many values to unpack (expected 2)",
     "output_type": "error",
     "traceback": [
      "\u001b[0;31m---------------------------------------------------------------------------\u001b[0m",
      "\u001b[0;31mValueError\u001b[0m                                Traceback (most recent call last)",
      "Cell \u001b[0;32mIn[95], line 1\u001b[0m\n\u001b[0;32m----> 1\u001b[0m \u001b[43ma\u001b[49m\u001b[43m(\u001b[49m\u001b[43mresult\u001b[49m\u001b[43m)\u001b[49m\n",
      "Cell \u001b[0;32mIn[94], line 6\u001b[0m, in \u001b[0;36ma\u001b[0;34m(self, arcs)\u001b[0m\n\u001b[1;32m      4\u001b[0m variables \u001b[38;5;241m=\u001b[39m [val \u001b[38;5;28;01mfor\u001b[39;00m val \u001b[38;5;129;01min\u001b[39;00m \u001b[38;5;28mself\u001b[39m\u001b[38;5;241m.\u001b[39mdomains\u001b[38;5;241m.\u001b[39mkeys()]\n\u001b[1;32m      5\u001b[0m \u001b[38;5;28mprint\u001b[39m((variables, variables))\n\u001b[0;32m----> 6\u001b[0m queue \u001b[38;5;241m=\u001b[39m [(x, y) \u001b[38;5;28;01mfor\u001b[39;00m x, y \u001b[38;5;129;01min\u001b[39;00m (variables, variables) \u001b[38;5;28;01mif\u001b[39;00m x \u001b[38;5;241m!=\u001b[39m y] \u001b[38;5;28;01mif\u001b[39;00m \u001b[38;5;129;01mnot\u001b[39;00m arcs \u001b[38;5;28;01melse\u001b[39;00m arcs\n\u001b[1;32m      7\u001b[0m \u001b[38;5;28;01mreturn\u001b[39;00m queue\n",
      "Cell \u001b[0;32mIn[94], line 6\u001b[0m, in \u001b[0;36m<listcomp>\u001b[0;34m(.0)\u001b[0m\n\u001b[1;32m      4\u001b[0m variables \u001b[38;5;241m=\u001b[39m [val \u001b[38;5;28;01mfor\u001b[39;00m val \u001b[38;5;129;01min\u001b[39;00m \u001b[38;5;28mself\u001b[39m\u001b[38;5;241m.\u001b[39mdomains\u001b[38;5;241m.\u001b[39mkeys()]\n\u001b[1;32m      5\u001b[0m \u001b[38;5;28mprint\u001b[39m((variables, variables))\n\u001b[0;32m----> 6\u001b[0m queue \u001b[38;5;241m=\u001b[39m [(x, y) \u001b[38;5;28;01mfor\u001b[39;00m x, y \u001b[38;5;129;01min\u001b[39;00m (variables, variables) \u001b[38;5;28;01mif\u001b[39;00m x \u001b[38;5;241m!=\u001b[39m y] \u001b[38;5;28;01mif\u001b[39;00m \u001b[38;5;129;01mnot\u001b[39;00m arcs \u001b[38;5;28;01melse\u001b[39;00m arcs\n\u001b[1;32m      7\u001b[0m \u001b[38;5;28;01mreturn\u001b[39;00m queue\n",
      "\u001b[0;31mValueError\u001b[0m: too many values to unpack (expected 2)"
     ]
    }
   ],
   "source": [
    "a(result)"
   ]
  },
  {
   "cell_type": "code",
   "execution_count": 81,
   "id": "dffb6873-eeb8-4ace-95ff-11d891e53d2a",
   "metadata": {},
   "outputs": [
    {
     "data": {
      "text/plain": [
       "[(Variable(4, 1, 'across', 4), Variable(0, 1, 'down', 5)),\n",
       " (Variable(4, 1, 'across', 4), Variable(0, 1, 'across', 3)),\n",
       " (Variable(4, 1, 'across', 4), Variable(1, 4, 'down', 4))]"
      ]
     },
     "execution_count": 81,
     "metadata": {},
     "output_type": "execute_result"
    }
   ],
   "source": [
    "[overlap for overlap in result.crossword.overlaps if overlap[0] == Variable(4, 1, 'across', 4)]"
   ]
  },
  {
   "cell_type": "code",
   "execution_count": 86,
   "id": "d39dc1ff-238c-4052-9683-bf86af16fc7e",
   "metadata": {},
   "outputs": [
    {
     "data": {
      "text/plain": [
       "dict_keys([Variable(4, 1, 'across', 4), Variable(0, 1, 'down', 5), Variable(0, 1, 'across', 3), Variable(1, 4, 'down', 4)])"
      ]
     },
     "execution_count": 86,
     "metadata": {},
     "output_type": "execute_result"
    }
   ],
   "source": [
    "result.domains.keys()"
   ]
  },
  {
   "cell_type": "code",
   "execution_count": 118,
   "id": "85cfe550-f443-449c-9378-ee1463978234",
   "metadata": {},
   "outputs": [
    {
     "data": {
      "text/plain": [
       "{Variable(0, 1, 'down', 5), Variable(1, 4, 'down', 4)}"
      ]
     },
     "execution_count": 118,
     "metadata": {},
     "output_type": "execute_result"
    }
   ],
   "source": [
    "result.crossword.neighbors(Variable(4, 1, 'across', 4))"
   ]
  },
  {
   "cell_type": "code",
   "execution_count": 3,
   "id": "4f1dcb1f-56e6-4803-be67-8d993cc3471f",
   "metadata": {},
   "outputs": [],
   "source": [
    "test = []\n",
    "bacon = [True, False]"
   ]
  },
  {
   "cell_type": "code",
   "execution_count": 4,
   "id": "09a7fdd4-86a6-45b2-ac7c-cf2e0cdce243",
   "metadata": {},
   "outputs": [
    {
     "data": {
      "text/plain": [
       "[1, 0]"
      ]
     },
     "execution_count": 4,
     "metadata": {},
     "output_type": "execute_result"
    }
   ],
   "source": [
    "for row in bacon:\n",
    "    test.append(1 if row else 0)\n",
    "\n",
    "test"
   ]
  },
  {
   "cell_type": "code",
   "execution_count": null,
   "id": "7de9ad05-eb4f-4338-bfd3-ebd38094ddf3",
   "metadata": {},
   "outputs": [],
   "source": []
  }
 ],
 "metadata": {
  "kernelspec": {
   "display_name": "Python 3 (ipykernel)",
   "language": "python",
   "name": "python3"
  },
  "language_info": {
   "codemirror_mode": {
    "name": "ipython",
    "version": 3
   },
   "file_extension": ".py",
   "mimetype": "text/x-python",
   "name": "python",
   "nbconvert_exporter": "python",
   "pygments_lexer": "ipython3",
   "version": "3.10.6"
  }
 },
 "nbformat": 4,
 "nbformat_minor": 5
}
